{
 "cells": [
  {
   "cell_type": "code",
   "execution_count": 11,
   "metadata": {},
   "outputs": [
    {
     "name": "stderr",
     "output_type": "stream",
     "text": [
      "\n",
      "\n",
      "\n",
      "  0%|          | 0/28 [00:00<?, ?it/s]\u001b[A\u001b[A\u001b[A\n",
      "\n",
      "\n",
      "  4%|▎         | 1/28 [05:39<2:32:33, 339.03s/it]\u001b[A\u001b[A\u001b[A\n",
      "\n",
      "\n",
      "  7%|▋         | 2/28 [10:59<2:24:31, 333.51s/it]\u001b[A\u001b[A\u001b[A\n",
      "\n",
      "\n",
      " 11%|█         | 3/28 [16:44<2:20:20, 336.80s/it]\u001b[A\u001b[A\u001b[A\n",
      "\n",
      "\n",
      " 14%|█▍        | 4/28 [22:28<2:15:37, 339.05s/it]\u001b[A\u001b[A\u001b[A\n",
      "\n",
      "\n",
      " 18%|█▊        | 5/28 [28:21<2:11:31, 343.12s/it]\u001b[A\u001b[A\u001b[A\n",
      "\n",
      "\n",
      " 21%|██▏       | 6/28 [33:10<1:59:56, 327.12s/it]\u001b[A\u001b[A\u001b[A\n",
      "\n",
      "\n",
      " 25%|██▌       | 7/28 [38:28<1:53:27, 324.16s/it]\u001b[A\u001b[A\u001b[A\n",
      "\n",
      "\n",
      " 29%|██▊       | 8/28 [43:18<1:44:40, 314.01s/it]\u001b[A\u001b[A\u001b[A\n",
      "\n",
      "\n",
      " 32%|███▏      | 9/28 [48:41<1:40:20, 316.87s/it]\u001b[A\u001b[A\u001b[A\n",
      "\n",
      "\n",
      " 36%|███▌      | 10/28 [54:43<1:39:06, 330.35s/it]\u001b[A\u001b[A\u001b[A\n",
      "\n",
      "\n",
      " 39%|███▉      | 11/28 [1:00:23<1:34:26, 333.31s/it]\u001b[A\u001b[A\u001b[A\n",
      "\n",
      "\n",
      " 43%|████▎     | 12/28 [1:06:21<1:30:50, 340.63s/it]\u001b[A\u001b[A\u001b[A\n",
      "\n",
      "\n",
      " 46%|████▋     | 13/28 [1:12:38<1:27:53, 351.59s/it]\u001b[A\u001b[A\u001b[A\n",
      "\n",
      "\n",
      " 50%|█████     | 14/28 [1:19:33<1:26:26, 370.46s/it]\u001b[A\u001b[A\u001b[A\n",
      "\n",
      "\n",
      " 54%|█████▎    | 15/28 [1:25:41<1:20:06, 369.75s/it]\u001b[A\u001b[A\u001b[A\n",
      "\n",
      "\n",
      " 57%|█████▋    | 16/28 [1:31:25<1:12:25, 362.12s/it]\u001b[A\u001b[A\u001b[A\n",
      "\n",
      "\n",
      " 61%|██████    | 17/28 [1:36:49<1:04:18, 350.75s/it]\u001b[A\u001b[A\u001b[A\n",
      "\n",
      "\n",
      " 64%|██████▍   | 18/28 [1:42:27<57:47, 346.74s/it]  \u001b[A\u001b[A\u001b[A\n",
      "\n",
      "\n",
      " 68%|██████▊   | 19/28 [1:48:45<53:24, 356.10s/it]\u001b[A\u001b[A\u001b[A\n",
      "\n",
      "\n",
      " 71%|███████▏  | 20/28 [1:54:39<47:24, 355.53s/it]\u001b[A\u001b[A\u001b[A\n",
      "\n",
      "\n",
      " 75%|███████▌  | 21/28 [2:00:44<41:49, 358.51s/it]\u001b[A\u001b[A\u001b[A\n",
      "\n",
      "\n",
      " 79%|███████▊  | 22/28 [2:06:43<35:51, 358.55s/it]\u001b[A\u001b[A\u001b[A\n",
      "\n",
      "\n",
      " 82%|████████▏ | 23/28 [2:12:35<29:42, 356.57s/it]\u001b[A\u001b[A\u001b[A\n",
      "\n",
      "\n",
      " 86%|████████▌ | 24/28 [2:18:14<23:25, 351.32s/it]\u001b[A\u001b[A\u001b[A\n",
      "\n",
      "\n",
      " 89%|████████▉ | 25/28 [2:23:51<17:20, 346.84s/it]\u001b[A\u001b[A\u001b[A\n",
      "\n",
      "\n",
      " 93%|█████████▎| 26/28 [2:28:49<11:04, 332.46s/it]\u001b[A\u001b[A\u001b[A\n",
      "\n",
      "\n",
      " 96%|█████████▋| 27/28 [2:34:58<05:43, 343.35s/it]\u001b[A\u001b[A\u001b[A\n",
      "\n",
      "\n",
      "100%|██████████| 28/28 [2:38:29<00:00, 303.52s/it]\u001b[A\u001b[A\u001b[A"
     ]
    },
    {
     "name": "stdout",
     "output_type": "stream",
     "text": [
      "time cost 9509.266082525253 s\n"
     ]
    }
   ],
   "source": [
    "import imageio\n",
    "import imgaug as ia\n",
    "import imgaug.augmenters as iaa\n",
    "from imgaug.augmentables.polys import Polygon, PolygonsOnImage\n",
    "import numpy as np\n",
    "import json\n",
    "import shutil\n",
    "import os\n",
    "import re\n",
    "import time\n",
    "import base64\n",
    "from imgaug.augmentables.batches import UnnormalizedBatch\n",
    "from tqdm import tqdm\n",
    "\n",
    "\n",
    "def split_list(list_,split_len):\n",
    "    temp=[list_[i:i+split_len] for i in range(0, len(list_), split_len)]\n",
    "    return temp\n",
    "\n",
    "def load_images(path,name_list):#从图像文件目录path中读入列表name_list中的图像文件\n",
    "    images=[]\n",
    "    for file in name_list:\n",
    "        image = imageio.imread(os.path.join(path,file))\n",
    "        images.append(image)\n",
    "    return images\n",
    "\n",
    "def load_json_polygons(path,name_list):#从json文件目录path中读入列表name_list中的json文件\n",
    "    polygons=[]\n",
    "    for file in name_list:\n",
    "        with open(os.path.join(path,file),'r') as fp:\n",
    "            data = json.load(fp)  # 加载json文件\n",
    "            point_set=[]#初始的多边形节点集合\n",
    "            for s_i,data_shapes in enumerate(data[\"shapes\"]):  \n",
    "                temp = np.array(data[\"shapes\"][s_i][\"points\"])#list转numpy.array\n",
    "                temp=np.round(temp).astype(np.int16)#四舍五入然后转为整数\n",
    "                arr = temp.tolist()#numpy.array转list\n",
    "                arr=Polygon(arr,label=data[\"shapes\"][s_i][\"label\"])#转为imgaug模块对多边形节点的格式要求\n",
    "                point_set.append(arr)\n",
    "            psoi = ia.PolygonsOnImage(point_set,shape=(data[\"imageHeight\"],data[\"imageWidth\"],3))\n",
    "            polygons.append(psoi)\n",
    "    return polygons\n",
    "\n",
    "def batches_augmenter(all_images,all_polygons,extend_times):\n",
    "    batches = [UnnormalizedBatch(images=all_images, polygons=all_polygons) for _ in range(extend_times)] \n",
    "\n",
    "    aug = iaa.Sequential([#扩展策略\n",
    "        iaa.Flipud(0.5),#上下镜像翻转#*2\n",
    "        iaa.Fliplr(0.5),#左右镜像翻转#*2 \n",
    "        iaa.GammaContrast(gamma=(0.5, 2.0),per_channel=True, random_state=None),#伽玛对比度#*6\n",
    "    #     iaa.MotionBlur(k=(3,20),angle=(0,360), direction=(-1.0, 1.0),random_state=None)#移动模糊，步长k，图像平面上的移动方向angle，图像法向的移动方向direction，random_state？\n",
    "        iaa.PerspectiveTransform(scale=(0.01, 0.1), keep_size=True),#透视变换#一个多边形变换后可能变成0,1,2...任意多的多边形，imgaug0.3.0 not implement yet\n",
    "        iaa.GaussianBlur(sigma=(0.0, 3.0))#高斯模糊\n",
    "        ])\n",
    "\n",
    "    batches_aug = list(aug.augment_batches(batches, background=True))#background=True\n",
    "    return batches_aug\n",
    "\n",
    "def images_write(batches_aug,name_list,dst_dir):\n",
    "    for j,imgName in enumerate(name_list):\n",
    "        for i,batches in enumerate(batches_aug):\n",
    "            \n",
    "#             ia.imshow(\n",
    "#                 batches_aug[i].polygons_aug[j].draw_on_image(\n",
    "#                     batches_aug[i].images_aug[j]\n",
    "#                 )\n",
    "#             )\n",
    "            imageio.imwrite(os.path.join(dst_dir,json_image_aug_Path(i,imgName)[2]),\n",
    "                            batches_aug[i].images_aug[j])\n",
    "def jsons_dump(batches_aug,name_list,src_dir,dst_dir,img_dst_dir):\n",
    "    for j,jsonName in enumerate(name_list):\n",
    "        with open(os.path.join(src_dir,jsonName),'r') as fp:\n",
    "            data = json.load(fp)\n",
    "            for i,batches in enumerate(batches_aug):\n",
    "                batches_aug[i].polygons_aug[j]=batches_aug[i].polygons_aug[j].clip_out_of_image()\n",
    "                data[\"imagePath\"]=json_image_aug_Path(i,jsonName)[2]\n",
    "                data[\"imageData\"]=json_imageData(json_image_aug_Path(i,jsonName)[2],img_dst_dir)\n",
    "                data[\"shapes\"]=json_shapes(batches_aug[i].polygons_aug[j])\n",
    "            \n",
    "                json.dump(data,open(os.path.join(dst_dir,json_image_aug_Path(i,jsonName)[1]),\n",
    "                                    'w'), indent=4,ensure_ascii=False)\n",
    "\n",
    "def json_image_aug_Path(i,fullName):\n",
    "    temp=[]\n",
    "    name=os.path.basename(fullName).split('.')[0]\n",
    "    temp.append(name)                                       \n",
    "    temp.append(name+\"_Aug\"+str(i+1)+\".json\") \n",
    "    temp.append(name+\"_Aug\"+str(i+1)+\".png\")\n",
    "    return temp\n",
    "                                              \n",
    "def json_imageData(fileName,img_dst_dir):\n",
    "#     for file in os.listdir(img_dst_dir):\n",
    "#         matchObj = re.search(fileName.split('.')[0], file)\n",
    "#         if matchObj:\n",
    "#             print(fileName.split('.')[0],file)\n",
    "#             with open(os.path.join(img_dst_dir,file),'rb') as f:\n",
    "    with open(os.path.join(img_dst_dir,fileName),'rb') as f:\n",
    "        imageData=base64.b64encode(f.read()).decode('utf-8')\n",
    "        return imageData\n",
    "    \n",
    "def json_shapes(PolygonsOnImage):\n",
    "    shapes=[]\n",
    "    for i,polygon in enumerate(PolygonsOnImage.polygons):\n",
    "        shape={}\n",
    "        shape.update({\"line_color\": 0,\"fill_color\": 0,\n",
    "                      \"shape_type\": \"polygon\",\"flags\": {},\n",
    "                      \"label\" : polygon.label,\n",
    "                      \"points\" : polygon.exterior.astype(np.int16).tolist()\n",
    "                      })\n",
    "        \n",
    "        shapes.append(shape)\n",
    "    \n",
    "    return shapes\n",
    "\n",
    "def main():\n",
    "#     json_src_dir=r'/home/cver/lcx/data/augmentation/imgaug1json'\n",
    "#     img_src_dir=r'/home/cver/lcx/data/augmentation/imgaug1img'\n",
    "    json_src_dir=r'/home/cver/lcx/data/552/en/json'\n",
    "    img_src_dir=r'/home/cver/lcx/data/552/en/image'\n",
    "    json_dst_dir=r'/home/cver/lcx/data/augmentation/json_dst'\n",
    "    img_dst_dir=r'/home/cver/lcx/data/augmentation/img_dst'\n",
    "    extend_times=20\n",
    "    split_len=20\n",
    "    \n",
    "    time_start=time.time()\n",
    "    \n",
    "    images_split=split_list(sorted(os.listdir(img_src_dir)),split_len)\n",
    "    jsons_split=split_list(sorted(os.listdir(json_src_dir)),split_len)\n",
    "    \n",
    "    for i,part in enumerate(tqdm(images_split)):\n",
    "        batches_aug=batches_augmenter(load_images(img_src_dir,images_split[i]),\n",
    "                                      load_json_polygons(json_src_dir,jsons_split[i]),\n",
    "                                      extend_times)\n",
    "        images_write(batches_aug,images_split[i],img_dst_dir)\n",
    "        jsons_dump(batches_aug,jsons_split[i],json_src_dir,json_dst_dir,img_dst_dir)\n",
    "    \n",
    "    time_end=time.time()\n",
    "    print('time cost',time_end-time_start,'s')\n",
    "    \n",
    "if __name__ == \"__main__\":\n",
    "    main()"
   ]
  },
  {
   "cell_type": "code",
   "execution_count": 2,
   "metadata": {},
   "outputs": [
    {
     "name": "stdout",
     "output_type": "stream",
     "text": [
      "Screenshot from 2019-09-27 09-33-39\n",
      "Screenshot from 2019-09-27 09-33-39\n"
     ]
    }
   ],
   "source": [
    "import imageio\n",
    "import os\n",
    "# image = imageio.imread(r'/home/cver/Desktop/Screenshot from 2019-09-27 09-33-39.png')\n",
    "# print(image.shape)#10:54\n",
    "a=os.path.basename(r'/home/cver/Desktop/Screenshot from 2019-09-27 09-33-39.png').split('.')[0]\n",
    "print(a)\n",
    "print(a.split('.')[0])"
   ]
  },
  {
   "cell_type": "markdown",
   "metadata": {},
   "source": [
    "# 一级标题\n",
    "## 二级标题\n"
   ]
  },
  {
   "cell_type": "code",
   "execution_count": 1,
   "metadata": {},
   "outputs": [
    {
     "name": "stdout",
     "output_type": "stream",
     "text": [
      "0 2\n",
      "1 4\n",
      "2 5\n"
     ]
    }
   ],
   "source": [
    "a=[2,4,5]\n",
    "for i,aa in enumerate(a):print(i,aa)"
   ]
  },
  {
   "cell_type": "code",
   "execution_count": null,
   "metadata": {},
   "outputs": [],
   "source": [
    "    bar = tqdm(batches_aug)\n",
    "    for augment_batches in bar:\n",
    "        bar.set_description(f\"Now get {letter}\")"
   ]
  },
  {
   "cell_type": "code",
   "execution_count": 13,
   "metadata": {},
   "outputs": [
    {
     "data": {
      "text/plain": [
       "2.641388888888889"
      ]
     },
     "execution_count": 13,
     "metadata": {},
     "output_type": "execute_result"
    }
   ],
   "source": [
    "do_crc64 = crcmod.mkCrcFun(0x142F0E1EBA9EA3693L, initCrc=0L, xorOut=0xffffffffffffffffL, rev=True)"
   ]
  },
  {
   "cell_type": "code",
   "execution_count": 14,
   "metadata": {},
   "outputs": [
    {
     "data": {
      "text/plain": [
       "11040"
      ]
     },
     "execution_count": 14,
     "metadata": {},
     "output_type": "execute_result"
    }
   ],
   "source": [
    "552*20"
   ]
  },
  {
   "cell_type": "code",
   "execution_count": null,
   "metadata": {},
   "outputs": [],
   "source": []
  }
 ],
 "metadata": {
  "kernelspec": {
   "display_name": "Python 3",
   "language": "python",
   "name": "python3"
  },
  "language_info": {
   "codemirror_mode": {
    "name": "ipython",
    "version": 3
   },
   "file_extension": ".py",
   "mimetype": "text/x-python",
   "name": "python",
   "nbconvert_exporter": "python",
   "pygments_lexer": "ipython3",
   "version": "3.7.4"
  }
 },
 "nbformat": 4,
 "nbformat_minor": 2
}
