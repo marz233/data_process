import cv2,os
import matplotlib.pyplot as plt
import hashlib
import numpy as np
from pathlib import Path
from skimage.filters import threshold_yen
from skimage.exposure import rescale_intensity
from skimage.io import imread, imsave
from tqdm import tqdm
from PIL import Image
img_path=r'/home/cver/20200702_FREEZED_DATA/ENGINE_DATA/pre_treat/RGBA_BLACK_EDGE/part_unknown/test-crack-BR2012267-6.png'
gpath=r'/home/cver/lcx/Part_Classification/HPT/burn-BR20160016-0.png'
path=Path(r'/home/cver/lcx/Part_Classification/HPT')
# path = Path(r'/home/cver/lcx/DexiNed/result')
# path_list = [i for i in path.glob('*[!.json]')][:5]
# path_list = [r'/home/cver/docker-data/maskrcnn-lcx/cxtest2/temp/{D2B636F9-6DBC-48E2-910C-DB476828A91E}.png.jpg']
path_list = [r'/home/cver/20200702_FREEZED_DATA/ENGINE_DATA/HPTN/burn-BR20161843-0.png',
            r'/home/cver/20200702_FREEZED_DATA/ENGINE_DATA/CC/CFM5600010054_CC_Outer liner_Axial cracks_70059.jpg',
            r'/home/cver/20200702_FREEZED_DATA/ENGINE_DATA/CC/CFM5600010476_CC_Inner Liner_Axial cracks_90481.jpg',
            r'/home/cver/20200702_FREEZED_DATA/ENGINE_DATA/CC/CFM5600010476_CC_Outer liner_Axial cracks_90489.jpg',
            ]
def showimg(img1,img2):#按一行两列的格式输出图像，适合jupyter界面
#     plt.figure(figsize=(img.shape[0]/50, img.shape[1]/50))
    plt.figure(figsize=(img1.shape[0]/10, img1.shape[1]/10))
    plt.subplot(1,2,1)
    plt.axis('off');plt.imshow(img1, cmap ='gray')
    plt.subplot(1,2,2)
    plt.axis('off');plt.imshow(img2, cmap ='gray')
    plt.show()
def loadimg(img_path):
    return imread(img_path)
def yen(img):#适合处理扫描件，提升图像亮度和细节https://scikit-image.org/docs/dev/api/skimage.filters.html#threshold-yen
    yen_threshold = threshold_yen(img)
    bright = rescale_intensity(img, (0, yen_threshold), (0, 255))
    return bright
def clahe(img):#限制对比度自适应直方图均衡(Contrast Limited Adaptive Histogram Equalization），适合去雾、提升饱和度对比度
    lab = cv2.cvtColor(img, cv2.COLOR_BGR2LAB)
    lab_planes = cv2.split(lab)
    clahe = cv2.createCLAHE(clipLimit=2.0,tileGridSize=(8,8))
    lab_planes[0] = clahe.apply(lab_planes[0])
    lab = cv2.merge(lab_planes)
    dst = cv2.cvtColor(lab, cv2.COLOR_LAB2BGR)
    return dst
def bm3d(img):#####有专利限制
    dst = cv2.xphoto.bm3dDenoising(img)
    return dst
def mean(img,_mean):#减均值后，图像的背景部分会变白，这是叫‘白化（whiten）’吗
#     print(type(img),img.dtype)
    sub_img = np.zeros(shape=img.shape, dtype=np.uint8)
#     mean = [95,92,86]
#     mean = [103,116,128]
    sub_img[:,:,0] += _mean[0]
    sub_img[:,:,1] += _mean[1]
    sub_img[:,:,2] += _mean[2]
    return sub_img
def gray(img):
    grayed = cv2.cvtColor(img, cv2.COLOR_RGB2GRAY)
    rgb_grayed = cv2.cvtColor(grayed, cv2.COLOR_GRAY2RGB)
    return rgb_grayed
def single_channal(img,c):
    z_img = np.zeros(shape=img.shape, dtype=np.uint8)
    z_img[:,:,c] = img[:,:,c]
    print('z_img:',z_img.shape)
    return z_img
def save_img(src,dst,do_fun):
    for i in tqdm(src.glob('*')):
        img = imread(i)
        result = do_fun(img)
        imsave(dst/i.name,result)
def applyCustomColorMap(im_gray) :    
        lut = np.zeros((256, 1, 3), dtype=np.uint8)    
        #Red channel
        lut[:, 0, 0] = [54,55,56,57,57,58,59,60,61,62,62,63,64,65,66,67,67,68,69,70,71,72,72,73,74,75,76,77,78,78,79,80,81,82,83,83,84,85,86,87,88,88,89,90,91,92,93,93,94,95,96,97,98,98,99,100,101,102,103,103,104,105,106,107,108,110,112,114,116,118,119,121,123,125,127,129,131,133,135,137,139,141,143,145,146,148,150,152,154,156,158,160,162,164,166,168,170,171,173,175,177,179,181,183,185,187,189,191,193,195,197,198,200,202,204,206,208,210,212,214,216,218,220,222,224,225,227,229,230,231,231,232,232,232,233,233,234,234,234,235,235,236,236,236,237,237,238,238,238,239,239,240,240,240,241,241,242,242,242,243,243,244,244,244,245,245,246,246,246,247,247,248,248,248,249,249,250,250,250,251,251,252,252,252,253,253,254,254,254,255,255,255,255,255,255,255,255,255,255,255,255,255,255,255,255,255,255,255,255,255,255,255,255,255,255,255,255,255,255,255,255,255,255,255,255,255,255,255,255,255,255,255,255,255,255,255,255,255,255,255,255,255,255,255,255,255,255,255,255,255,255,255,255,255,255,255]       
        #Green channel
        lut[:, 0, 1] = [55,56,56,57,58,59,59,60,61,62,63,63,64,65,66,66,67,68,69,69,70,71,72,72,73,74,75,75,76,77,78,79,79,80,81,82,82,83,84,85,85,86,87,88,88,89,90,91,92,92,93,94,95,95,96,97,98,98,99,100,101,101,102,103,104,105,106,107,108,109,110,111,112,113,114,115,116,117,118,119,120,121,122,123,124,125,126,127,128,129,130,131,132,133,134,135,136,137,138,139,140,141,142,144,145,146,147,148,149,150,151,152,153,154,155,156,157,158,159,160,161,162,163,164,165,166,167,168,168,168,168,168,168,168,168,168,168,168,168,168,168,168,168,168,167,167,167,167,167,167,167,167,167,167,167,167,167,167,167,167,166,166,166,166,166,166,166,166,166,166,166,166,166,166,166,166,166,165,165,165,165,165,165,165,165,165,165,165,165,165,165,165,164,162,161,160,158,157,156,154,153,152,150,149,148,146,145,144,142,141,140,138,137,136,134,133,132,130,129,128,126,125,124,122,121,120,118,117,116,114,113,112,110,109,108,106,105,104,102,101,100,98,97,96,94,93,92,90,89,88,86,85,84,82,81,80]
        #Blue channel
        lut[:, 0, 2] = [54,55,56,56,57,58,59,60,60,61,62,63,64,64,65,66,67,67,68,69,70,71,71,72,73,74,75,75,76,77,78,79,79,80,81,82,82,83,84,85,86,86,87,88,89,90,90,91,92,93,93,94,95,96,97,97,98,99,100,101,101,102,103,104,104,105,105,105,105,105,105,106,106,106,106,106,106,107,107,107,107,107,107,108,108,108,108,108,108,109,109,109,109,109,109,110,110,110,110,110,110,111,111,111,111,111,111,112,112,112,112,112,113,113,113,113,113,113,114,114,114,114,114,114,115,115,115,115,115,115,115,116,116,116,116,116,116,116,117,117,117,117,117,117,117,117,118,118,118,118,118,118,118,119,119,119,119,119,119,119,119,120,120,120,120,120,120,120,121,121,121,121,121,121,121,121,122,122,122,122,122,122,122,123,123,123,123,123,123,123,123,124,122,120,118,116,114,112,111,109,107,105,103,101,99,97,95,93,91,89,87,85,83,81,80,78,76,74,72,70,68,66,64,62,60,58,56,54,52,50,48,47,45,43,41,39,37,35,33,31,29,27,25,23,21,19,17,16,14,12,10,8,6,4,2,0]
        im_color = cv2.LUT(im_gray, lut)
        return im_color
def guidedFilter(img,radius=1,sigma=1000): #向导滤波
    dst = cv2.ximgproc.guidedFilter(img,img,radius,sigma)
    return dst    
def canny(img,smooth=25,contrast=25):
    w_edge = cv2.Canny(img,smooth,contrast)
    white =  255 * np.ones(img.shape[:2],dtype=np.uint8)
    b_edge = white - w_edge    
    return b_edge
def equalizeHist_in_3channels(img):
    temp = np.zeros(shape=img.shape, dtype=np.uint8)
    temp[:,:,0] = cv2.equalizeHist(img[:,:,0])
    temp[:,:,1] = cv2.equalizeHist(img[:,:,1])
    temp[:,:,2] = cv2.equalizeHist(img[:,:,2])
    return temp
def clahe_in_3channels(img, clipLimit=2.0, tileGridSize=(8,8)):
    temp = np.zeros(shape=img.shape, dtype=np.uint8)
    clahe = cv2.createCLAHE(clipLimit, tileGridSize)
    temp[:,:,0] = clahe.apply(img[:,:,0])
    temp[:,:,1] = clahe.apply(img[:,:,1])
    temp[:,:,2] = clahe.apply(img[:,:,2])
    return temp
def guidedFilter_in_3channels(img,radius=1,sigma=1000):
    temp = np.zeros(shape=img.shape, dtype=np.uint8)
    temp[:,:,0] = cv2.ximgproc.guidedFilter(img[:,:,0],img[:,:,0],radius,sigma) # (orig_img, guide_img, filter_radius, filter_sigma)
    temp[:,:,1] = cv2.ximgproc.guidedFilter(img[:,:,1],img[:,:,1],radius,sigma)
    temp[:,:,2] = cv2.ximgproc.guidedFilter(img[:,:,2],img[:,:,2],radius,sigma)
    return temp
# print(path_list)
for i in path_list:
    img = loadimg(i)
    dst1 = clahe(img)
#     dst2 = equalizeHist_in_3channels(img)
    dst2 = clahe_in_3channels(img,clipLimit=3.0, tileGridSize=(4,4))
#     dst2 = equalizeHist_in_3channels(img)
    dst3 = clahe_in_3channels(img,clipLimit=2.0, tileGridSize=(4,4))
#     dst4 = guidedFilter(clahe_in_3channels(img))
#     dst4 = guidedFilter_in_3channels(img)
    showimg(dst2,dst3)
#     showimg(img,dst2)
# save_img(src,dst,guidedFilter)
